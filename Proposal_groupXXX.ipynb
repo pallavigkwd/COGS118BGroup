{
 "cells": [
  {
   "cell_type": "markdown",
   "metadata": {},
   "source": [
    "# COGS 118B - Project Proposal"
   ]
  },
  {
   "cell_type": "markdown",
   "metadata": {},
   "source": [
    "# Project Description\n",
    "\n",
    "You will design and execute a machine learning project. There are a few constraints on the nature of the allowed project. \n",
    "- The problem addressed will not be a \"toy problem\" or \"common training students problem\" like mtcars, iris, palmer penguins etc.\n",
    "- The dataset will have >1k observations and >5 variables. I'd prefer more like >10k observations and >10 variables. A general rule is that if you have >100x more observations than variables, your solution will likely generalize a lot better. The goal of training an unsupervised machine learning model is to learn the underlying pattern in a dataset in order to generalize well to unseen data, so choosing a large dataset is very important.\n",
    "\n",
    "- The project must include some elements of unsupervised learning, but you are welcome to include some supervised or other learning approaches as well.\n",
    "- The project will include a model selection and/or feature selection component where you will be looking for the best setup to maximize the performance of your ML system.\n",
    "- You will evaluate the performance of your ML system using more than one appropriate metric\n",
    "- You will be writing a report describing and discussing these accomplishments\n",
    "\n",
    "\n",
    "Feel free to delete this description section when you hand in your proposal."
   ]
  },
  {
   "cell_type": "markdown",
   "metadata": {},
   "source": [
    "# Names\n",
    "\n",
    "Hopefully your team is at least this good. Obviously you should replace these with your names.\n",
    "\n",
    "- Pallavi Gaikwad\n",
    "- Katelyn Vu\n",
    "- Kayla Nguyen\n",
    "- Austin Jung\n",
    "- William Kim"
   ]
  },
  {
   "cell_type": "markdown",
   "metadata": {},
   "source": [
    "# Abstract \n",
    "Our goal is to analyze and identify the salient eating habits, lifestyle choices, and any genetic predispositions of individuals that generally lead to obesity. We are using tabular data from the UCI Machine Learning Data Repository with data about individuals and obesity from Mexico, Peru, and Colombia. Some of the metrics in the dataset include family history of overweight, daily meal count, and time spent physically active. We plan to use an unsupervised machine learning model to identify any trends or clustering of data, specifically k-means clustering if the data have similar variance. We plan to evaluate the performance of the model using silhouette scores to see the frequency of data within and cluster and the distance of clusters from each other. If we see that there are certain factors that correlate amongst points in clusters, we may be able to conclude stronger associations between those points and certain types of obesity.\n"
   ]
  },
  {
   "cell_type": "markdown",
   "metadata": {},
   "source": [
    "# Background\n",
    "\n",
    "Obesity is a widespread global health crisis that causes severe health complications and costs billions of dollars annually in treatments. As of 2016, about 340 million people were classified as obese and 1.9 billion were classified as overweight<a name=\"who\"></a>[<sup>[1]</sup>](#who). In the United States, obesity disproportionately affects certain racial groups at higher rates; non-Hispanic Black adults showed an obesity prevalence of roughly 49% and Hispanic adults showed an obesity prevalence of roughly 45%<a name=\"cdc\"></a>[<sup>[2]</sup>](#cdc). Obesity also demonstrates higher rates of prevalence based on socioeconomic status, with college graduates showing lower rates of obesity when compared to adults with less education─this further breaks down when taking into account sex and race. This epidemic does not solely apply to adults as roughly 340 million children were diagnosed as either obese or overweight in 2016<a name=\"who\"></a>[<sup>[1]</sup>](#who).\n",
    "\n",
    "These staggering proportions are extremely alarming as obesity increases the risk of other severe health conditions, such as heart disease, stroke, type II diabetes, and some types of cancer (colon, prostate, and rectum cancer in men and breast, uterine, and gallbladder cancer in women)<a name=\"niddk\"></a>[<sup>[3]</sup>](#niddk). Not only are these conditions harmful, they also increase financial burden. In the United States, those who are overweight or obese pay on average $2000 more annually in healthcare costs than those at healthy weights<a name=\"cdc\"></a>[<sup>[2]</sup>](#cdc). \n",
    "\n",
    "Even with these sobering statistics, obesity trends have continued to increase amongst all age groups, sexes, and racial groups, with global obesity nearly tripling since 1975<a name=\"who\"></a>[<sup>[1]</sup>](#who). The causes of obesity are a mix of both genetic and environmental factors, such as diet, physical activity, and sedentary behavior.  This is an extremely prevalent issue and one of the most pressing healthcare crises facing Americans, so in this project we hope to see which factors may be contributing more to obesity prevalence.\n"
   ]
  },
  {
   "cell_type": "markdown",
   "metadata": {},
   "source": [
    "# Problem Statement\n",
    "\n",
    "Our team’s objective is to analyze and identify the salient eating habits, lifestyle choices, and physical traits of individuals that generally lead to certain types of obesity. This challenge involves the development of a machine learning model capable of segmenting our observations into distinct groups. We can then use our findings on underlying relationships between variables to determine what generally leads to certain types of obesity, by looking at the distribution of Body Mass Indexes in each subpopulation."
   ]
  },
  {
   "cell_type": "markdown",
   "metadata": {},
   "source": [
    "# Data\n",
    "\n",
    "Our dataset was pulled from the UCI Machine Learning Repository. A link to this can be found <a href='https://archive.ics.uci.edu/dataset/544/estimation+of+obesity+levels+based+on+eating+habits+and+physical+condition'>here</a>. The dataset itself is the result of a survey that collected information on obesity levels from individuals in the countries of Mexico, Peru, and Colombia.\n",
    "\n",
    "It contains 2111 records containing 17 attributes:\n",
    "- Gender: Male, Female\n",
    "- Age: Numeric\n",
    "- Height: Numeric in meters\n",
    "- Weight: Numeric in kilograms\n",
    "- Family_history_with_overweight: Yes, No\n",
    "- FAVC (Do you eat high caloric food): Yes, No\n",
    "- FCVC (Do you usually eat vegetables): Yes, No\n",
    "- NCP (How many meals do you have daily): Between 1 and 2, Three, More than three\n",
    "- CAEC (Do you eat food between meals): No, Sometimes, Frequently, Always\n",
    "- SMOKE (Do you smoke): Yes, No\n",
    "- CH2O (How much water do you drink):  Less than a liter, Between 1 and 2L, More than 2L\n",
    "- SCC (Do you monitor your calories): Yes, No\n",
    "- FAF (How often do you have physical activity): I do not have, 1 or 2 days, 2 or 5 days, 4 or 5 days\n",
    "- TUE (How much time do you use technological devices): 0-2 hours, 3-5 hours, More than 5 hours\n",
    "- MTRANS (How often do you drink alcohol): I do not drink, Sometimes, Frequently, Always\n",
    "- NObeyesdad (Which transportation do you usually use): Automobile, Motorbike, Bike, Public Transportations, Walking)\n",
    "\n",
    "One important aspect of this is that the researchers utilized a synthetic minority over-sampling technique to generate additional data in order to balance the number of identifiable samples for each type of obesity. This was done to decrease bias in future learning approaches."
   ]
  },
  {
   "cell_type": "markdown",
   "metadata": {},
   "source": [
    "# Proposed Solution\n",
    "\n",
    "To address the problem of identifying factors contributing to different levels of obesity, we propose that we will be able to utilize k-means clustering based on eating habits, lifestyle choices, and physical traits. This algorithm allows us to partition our data into predetermined clusters where each data point, or individual, will belong to one level of obesity. This will allow us to uncover underlying patterns within the dataset. \n",
    "\n",
    "The data set that we have chosen to use comprises various features related to eating habits, lifestyle,  physical traits, and corresponding Body Mass Indexes (BMIs) of individuals. These features will allow us to perform analysis that will capture the determinants of obesity. Since K means relies on the calculation of distances between data points, we will have to preprocess the data to ensure that it is appropriately scaled and normalized.  We will apply the algorithm to segment the dataset into distinct groups based on similarities in the features. Assuming that we find the number of clusters that maximize intra-cluster similarity and inter-cluster dissimilarity, we will be able to analyze the characteristics of each cluster to identify common trends associated with different types of obesity. To test our solution we will split the data set into testing and training subsets and compare the results of our model and existing knowledge of obesity.\n",
    "\n",
    "Overall, our solution aims to provide insights for public health strategies that can prevent and manage obesity levels. It will allow us to identify distinct groups of individuals based on different features and enable a deeper understanding of the factors that contribute to different types of obesity."
   ]
  },
  {
   "cell_type": "markdown",
   "metadata": {},
   "source": [
    "# Evaluation Metrics\n",
    "\n",
    "The main evaluation metric that will be used for both the benchmark and solution model is the silhouette score. By using the separation distance between the clusters within the model, we can determine the optimal number of clusters. The two categories to take into account are the thickness of the silhouette scores plotted (namely how thick they are compared to the other clusters’ scores), and how close the silhouette scores of each cluster is to 1, which would indicate that the cluster is far away from the other clusters.
    "\n",
    "In order to calculate the silhouette coefficient for each of the samples, we need to find the following: the mean intra-cluster distance (a) and the mean nearest-cluster distance (b). To find these two distances, we would use the distance formula between each of the points in the cluster with all other points in the cluster. Therefore, $\[a(i) = \frac{ \sum_{j \in C_i, j\neq i} \text{dist}(i,j)}{N_i-1}\]$ for each sample $i$, in cluster $C_i$, where $j$ is the other points within $C_i$, and $N_i$ is the total number of samples within $C_i$.\n",
    "\n",
    "On the other hand, we can find b with a similar method, except instead for each of the other points within the same cluster, we use the points in the closest cluster. That would mean:  where $N_k$ is the number of samples in the nearest cluster to $i$.\n",
    "\n",
    "Lastly, you would find the silhouette score for the total cluster by using the averages of all of the as and bs to get where s is the silhouette score.\n",
    "\n",
    "We would take the average silhouette score for each of the clusters to find out overall how good our models are. In an ideal world, the score would be a 1, which would be a perfect score, but we imagine a score of above 0.5 will be high enough to conclude the model worked to a certain extent."
   ]
  },
  {
   "cell_type": "markdown",
   "metadata": {},
   "source": [
    "# Ethics & Privacy"
   ]
  },
  {
   "cell_type": "markdown",
   "metadata": {},
   "source": [
    "One concern would be in regards to how we collected subjects’ data. Since data was collected from UC Irvine Machine Learning Repository, we would consider this a reliable source. Data was collected through an online web platform with no names and personal information given, as it is completely anonymized. Because personal habits and physical condition can be a sensitive topic, we will make sure to protect the privacy of our subjects. In the case we encounter any additional data that alludes to participants personal information, we will make sure to anonymize them. Our population is from Mexico, Peru, and Columbia which are more racially homogenous populations than America. While there may be risk of sampling bias, we will make sure to choose data that is randomized across gender, age, and socioeconomic status. We do not believe our sampling will play a large effect on finding a conclusion to our research question.\n",
    "\n",
    "Another concern would be whether our research question is ethically sound, or may have negative implications towards populations who suffer from obesity. We do not intend to use our findings to change or influence any population, nor use them to take any political or ethical stance.  We also cannot show that people from Mexico, Peru, or Columbia are more predisposed to obesity due to genetics or where they are from. The purpose of our research is to not discriminate against a certain population, rather to observe habits and whether they have a relationship with differing levels of obesity.\n"
   ]
  },
  {
   "cell_type": "markdown",
   "metadata": {},
   "source": [
    "# Team Expectations "
   ]
  },
  {
   "cell_type": "markdown",
   "metadata": {},
   "source": [
    "- Communication should be an important aspect of the project. Whether it be through email or through phone, if any issues or conflicts arise we should make sure to communicate with one another\n",
    "- We should be respectful and kind towards everyone.\n",
    "- Conflicts should be handled in an understanding and professional manner.\n",
    "- Work should be distributed evenly, but in the case it is not, teammates should communicate what they need and help each other.\n"
   ]
  },
  {
   "cell_type": "markdown",
   "metadata": {},
   "source": [
    "# Project Timeline Proposal"
   ]
  },
  {
   "cell_type": "markdown",
   "metadata": {},
   "source": [
    "Replace this with something meaningful that is appropriate for your needs. It doesn't have to be something that fits this format.  It doesn't have to be set in stone... \"no battle plan survives contact with the enemy\". But you need a battle plan nonetheless, and you need to keep it updated so you understand what you are trying to accomplish, who's responsible for what, and what the expected due dates are for each item.\n",
    "\n",
    "| Meeting Date  | Meeting Time| Completed Before Meeting  | Discuss at Meeting |\n",
    "|---|---|---|---|\n",
    "| 1/20  |  1 PM |  Brainstorm topics/questions (all)  | Determine best form of communication; Discuss and decide on final project topic; discuss hypothesis; begin background research | \n",
    "| 1/26  |  10 AM |  Do background research on topic (Pelé) | Discuss ideal dataset(s) and ethics; draft project proposal | \n",
    "| 2/1  | 10 AM  | Edit, finalize, and submit proposal; Search for datasets (Beckenbaur)  | Discuss Wrangling and possible analytical approaches; Assign group members to lead each specific part   |\n",
    "| 2/14  | 6 PM  | Import & Wrangle Data ,do some EDA (Maradonna) | Review/Edit wrangling/EDA; Discuss Analysis Plan   |\n",
    "| 2/23  | 12 PM  | Finalize wrangling/EDA; Begin programming for project (Cruyff) | Discuss/edit project code; Complete project |\n",
    "| 3/13  | 12 PM  | Complete analysis; Draft results/conclusion/discussion (Carlos)| Discuss/edit full project |\n",
    "| 3/19  | Before 11:59 PM  | NA | Turn in Final Project  |"
   ]
  },
  {
   "cell_type": "markdown",
   "metadata": {},
   "source": [
    "# Footnotes\n",
    "<a name=\"who\"></a>1.[^](#who): “Obesity and overweight.” World Health Organization (WHO), 9 June 2021, https://www.who.int/news-room/fact-sheets/detail/obesity-and-overweight. Accessed 20 February 2024.<br> \n",
    "<a name=\"cdc\"></a>2.[^](#cdc): “Adult Obesity Facts | Overweight & Obesity | CDC.” Centers for Disease Control and Prevention, https://www.cdc.gov/obesity/data/adult.html. Accessed 20 February 2024.<br>\n",
    "<a name=\"niddk\"></a>3.[^](#niddk): “Health Risks of Overweight & Obesity - NIDDK.” National Institute of Diabetes and Digestive and Kidney Diseases, https://www.niddk.nih.gov/health-information/weight-management/adult-overweight-obesity/health-risks. Accessed 20 February 2024.\n"
   ]
  },
  {
   "cell_type": "code",
   "execution_count": null,
   "metadata": {},
   "outputs": [],
   "source": []
  }
 ],
 "metadata": {
  "kernelspec": {
   "display_name": "Python 3 (ipykernel)",
   "language": "python",
   "name": "python3"
  },
  "language_info": {
   "codemirror_mode": {
    "name": "ipython",
    "version": 3
   },
   "file_extension": ".py",
   "mimetype": "text/x-python",
   "name": "python",
   "nbconvert_exporter": "python",
   "pygments_lexer": "ipython3",
   "version": "3.10.0"
  }
 },
 "nbformat": 4,
 "nbformat_minor": 2
}
