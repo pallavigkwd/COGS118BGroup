{
 "cells": [
  {
   "cell_type": "markdown",
   "metadata": {},
   "source": [
    "# COGS 118B - Project Proposal"
   ]
  },
  {
   "cell_type": "markdown",
   "metadata": {},
   "source": [
    "# Project Description\n",
    "\n",
    "You will design and execute a machine learning project. There are a few constraints on the nature of the allowed project. \n",
    "- The problem addressed will not be a \"toy problem\" or \"common training students problem\" like mtcars, iris, palmer penguins etc.\n",
    "- The dataset will have >1k observations and >5 variables. I'd prefer more like >10k observations and >10 variables. A general rule is that if you have >100x more observations than variables, your solution will likely generalize a lot better. The goal of training an unsupervised machine learning model is to learn the underlying pattern in a dataset in order to generalize well to unseen data, so choosing a large dataset is very important.\n",
    "\n",
    "- The project must include some elements of unsupervised learning, but you are welcome to include some supervised or other learning approaches as well.\n",
    "- The project will include a model selection and/or feature selection component where you will be looking for the best setup to maximize the performance of your ML system.\n",
    "- You will evaluate the performance of your ML system using more than one appropriate metric\n",
    "- You will be writing a report describing and discussing these accomplishments\n",
    "\n",
    "\n",
    "Feel free to delete this description section when you hand in your proposal."
   ]
  },
  {
   "cell_type": "markdown",
   "metadata": {},
   "source": [
    "# Names\n",
    "\n",
    "Hopefully your team is at least this good. Obviously you should replace these with your names.\n",
    "\n",
    "- Pallavi Gaikwad\n",
    "- Katelyn Vu\n",
    "- Kayla Nguyen\n",
    "- Austin Jung\n",
    "- William Kim"
   ]
  },
  {
   "cell_type": "markdown",
   "metadata": {},
   "source": [
    "# Abstract \n",
    "Our goal is to analyze and identify the salient eating habits, lifestyle choices, and any genetic predispositions of individuals that generally lead to obesity. We are using tabular data from the UCI Machine Learning Data Repository with data about individuals and obesity from Mexico, Peru, and Colombia. Some of the metrics in the dataset include family history of overweight, daily meal count, and time spent physically active. We plan to use an unsupervised machine learning model to identify any trends or clustering of data, specifically k-means clustering if the data have similar variance. We plan to evaluate the performance of the model using silhouette scores to see the frequency of data within and cluster and the distance of clusters from each other. If we see that there are certain factors that correlate amongst points in clusters, we may be able to conclude stronger associations between those points and certain types of obesity.\n"
   ]
  },
  {
   "cell_type": "markdown",
   "metadata": {},
   "source": [
    "# Background\n",
    "\n",
    "Obesity is a widespread global health crisis that causes severe health complications and costs billions of dollars annually in treatments. As of 2016, about 340 million people were classified as obese and 1.9 billion were classified as overweight<a name=\"who\"></a>[<sup>[1]</sup>](#who). In the United States, obesity disproportionately affects certain racial groups at higher rates; non-Hispanic Black adults showed an obesity prevalence of roughly 49% and Hispanic adults showed an obesity prevalence of roughly 45%<a name=\"cdc\"></a>[<sup>[2]</sup>](#cdc). Obesity also demonstrates higher rates of prevalence based on socioeconomic status, with college graduates showing lower rates of obesity when compared to adults with less education─this further breaks down when taking into account sex and race. This epidemic does not solely apply to adults as roughly 340 million children were diagnosed as either obese or overweight in 2016<a name=\"who\"></a>[<sup>[1]</sup>](#who).\n",
    "\n",
    "These staggering proportions are extremely alarming as obesity increases the risk of other severe health conditions, such as heart disease, stroke, type II diabetes, and some types of cancer (colon, prostate, and rectum cancer in men and breast, uterine, and gallbladder cancer in women)<a name=\"niddk\"></a>[<sup>[3]</sup>](#niddk). Not only are these conditions harmful, they also increase financial burden. In the United States, those who are overweight or obese pay on average $2000 more annually in healthcare costs than those at healthy weights<a name=\"cdc\"></a>[<sup>[2]</sup>](#cdc). \n",
    "\n",
    "Even with these sobering statistics, obesity trends have continued to increase amongst all age groups, sexes, and racial groups, with global obesity nearly tripling since 1975<a name=\"who\"></a>[<sup>[1]</sup>](#who). The causes of obesity are a mix of both genetic and environmental factors, such as diet, physical activity, and sedentary behavior.  This is an extremely prevalent issue and one of the most pressing healthcare crises facing Americans, so in this project we hope to see which factors may be contributing more to obesity prevalence.\n"
   ]
  },
  {
   "cell_type": "markdown",
   "metadata": {},
   "source": [
    "# Problem Statement\n",
    "\n",
    "Clearly describe the problem that you are solving. Avoid ambiguous words. The problem described should be well defined and should have at least one ML-relevant potential solution. Additionally, describe the problem thoroughly such that it is clear that the problem is quantifiable (the problem can be expressed in mathematical or logical terms), measurable (the problem can be measured by some metric and clearly observed), and replicable (the problem can be reproduced and occurs more than once)."
   ]
  },
  {
   "cell_type": "markdown",
   "metadata": {},
   "source": [
    "# Data\n",
    "\n",
    "You should have a strong idea of what dataset(s) will be used to accomplish this project. \n",
    "\n",
    "If you know what (some) of the data you will use, please give the following information for each dataset:\n",
    "- link/reference to obtain it\n",
    "- description of the size of the dataset (# of variables, # of observations)\n",
    "- what an observation consists of\n",
    "- what some critical variables are, how they are represented\n",
    "- any special handling, transformations, cleaning, etc will be needed\n",
    "\n",
    "If you don't yet know what your dataset(s) will be, you should describe what you desire in terms of the above bullets."
   ]
  },
  {
   "cell_type": "markdown",
   "metadata": {},
   "source": [
    "# Proposed Solution\n",
    "\n",
    "In this section, clearly describe a solution to the problem. The solution should be applicable to the project domain and appropriate for the dataset(s) or input(s) given. Provide enough detail (e.g., algorithmic description and/or theoretical properties) to convince us that your solution is applicable. Why might your solution work? Make sure to describe how the solution will be tested.  \n",
    "\n",
    "If you know details already, describe how (e.g., library used, function calls) you plan to implement the solution in a way that is reproducible.\n",
    "\n",
    "If it is appropriate to the problem statement, describe a benchmark model<a name=\"sota\"></a>[<sup>[3]</sup>](#sotanote) against which your solution will be compared. "
   ]
  },
  {
   "cell_type": "markdown",
   "metadata": {},
   "source": [
    "# Evaluation Metrics\n",
    "\n",
    "Propose at least one evaluation metric that can be used to quantify the performance of both the benchmark model and the solution model. The evaluation metric(s) you propose should be appropriate given the context of the data, the problem statement, and the intended solution. Describe how the evaluation metric(s) are derived and provide an example of their mathematical representations (if applicable). Complex evaluation metrics should be clearly defined and quantifiable (can be expressed in mathematical or logical terms)."
   ]
  },
  {
   "cell_type": "markdown",
   "metadata": {},
   "source": [
    "# Ethics & Privacy"
   ]
  },
  {
   "cell_type": "markdown",
   "metadata": {},
   "source": [
    "If your project has obvious potential concerns with ethics or data privacy discuss that here.  Almost every ML project put into production can have ethical implications if you use your imagination. Use your imagination. Get creative!\n",
    "\n",
    "Even if you can't come up with an obvious ethical concern that should be addressed, you should know that a large number of ML projects that go into producation have unintended consequences and ethical problems once in production. How will your team address these issues?\n",
    "\n",
    "Consider a tool to help you address the potential issues such as https://deon.drivendata.org"
   ]
  },
  {
   "cell_type": "markdown",
   "metadata": {},
   "source": [
    "# Team Expectations "
   ]
  },
  {
   "cell_type": "markdown",
   "metadata": {},
   "source": [
    "Put things here that cement how you will interact/communicate as a team, how you will handle conflict and difficulty, how you will handle making decisions and setting goals/schedule, how much work you expect from each other, how you will handle deadlines, etc...\n",
    "* *Team Expectation 1*\n",
    "* *Team Expectation 2*\n",
    "* *Team Expecation 3*\n",
    "* ..."
   ]
  },
  {
   "cell_type": "markdown",
   "metadata": {},
   "source": [
    "# Project Timeline Proposal"
   ]
  },
  {
   "cell_type": "markdown",
   "metadata": {},
   "source": [
    "Replace this with something meaningful that is appropriate for your needs. It doesn't have to be something that fits this format.  It doesn't have to be set in stone... \"no battle plan survives contact with the enemy\". But you need a battle plan nonetheless, and you need to keep it updated so you understand what you are trying to accomplish, who's responsible for what, and what the expected due dates are for each item.\n",
    "\n",
    "| Meeting Date  | Meeting Time| Completed Before Meeting  | Discuss at Meeting |\n",
    "|---|---|---|---|\n",
    "| 1/20  |  1 PM |  Brainstorm topics/questions (all)  | Determine best form of communication; Discuss and decide on final project topic; discuss hypothesis; begin background research | \n",
    "| 1/26  |  10 AM |  Do background research on topic (Pelé) | Discuss ideal dataset(s) and ethics; draft project proposal | \n",
    "| 2/1  | 10 AM  | Edit, finalize, and submit proposal; Search for datasets (Beckenbaur)  | Discuss Wrangling and possible analytical approaches; Assign group members to lead each specific part   |\n",
    "| 2/14  | 6 PM  | Import & Wrangle Data ,do some EDA (Maradonna) | Review/Edit wrangling/EDA; Discuss Analysis Plan   |\n",
    "| 2/23  | 12 PM  | Finalize wrangling/EDA; Begin programming for project (Cruyff) | Discuss/edit project code; Complete project |\n",
    "| 3/13  | 12 PM  | Complete analysis; Draft results/conclusion/discussion (Carlos)| Discuss/edit full project |\n",
    "| 3/19  | Before 11:59 PM  | NA | Turn in Final Project  |"
   ]
  },
  {
   "cell_type": "markdown",
   "metadata": {},
   "source": [
    "# Footnotes\n",
    "<a name=\"who\"></a>1.[^](#who): “Obesity and overweight.” World Health Organization (WHO), 9 June 2021, https://www.who.int/news-room/fact-sheets/detail/obesity-and-overweight. Accessed 20 February 2024.<br> \n",
    "<a name=\"cdc\"></a>2.[^](#cdc): “Adult Obesity Facts | Overweight & Obesity | CDC.” Centers for Disease Control and Prevention, https://www.cdc.gov/obesity/data/adult.html. Accessed 20 February 2024.<br>\n",
    "<a name=\"niddk\"></a>3.[^](#niddk): “Health Risks of Overweight & Obesity - NIDDK.” National Institute of Diabetes and Digestive and Kidney Diseases, https://www.niddk.nih.gov/health-information/weight-management/adult-overweight-obesity/health-risks. Accessed 20 February 2024.\n"
   ]
  },
  {
   "cell_type": "code",
   "execution_count": null,
   "metadata": {},
   "outputs": [],
   "source": []
  }
 ],
 "metadata": {
  "kernelspec": {
   "display_name": "Python 3 (ipykernel)",
   "language": "python",
   "name": "python3"
  },
  "language_info": {
   "codemirror_mode": {
    "name": "ipython",
    "version": 3
   },
   "file_extension": ".py",
   "mimetype": "text/x-python",
   "name": "python",
   "nbconvert_exporter": "python",
   "pygments_lexer": "ipython3",
   "version": "3.10.0"
  }
 },
 "nbformat": 4,
 "nbformat_minor": 2
}
